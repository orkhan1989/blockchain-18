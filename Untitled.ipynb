{
 "cells": [
  {
   "cell_type": "code",
   "execution_count": 1,
   "id": "288e5bbf-cdfc-451c-9a81-c3b63089b8e3",
   "metadata": {},
   "outputs": [
    {
     "name": "stderr",
     "output_type": "stream",
     "text": [
      "2022-03-12 16:57:06.113 INFO    numexpr.utils: NumExpr defaulting to 8 threads.\n"
     ]
    }
   ],
   "source": [
    "import streamlit as st\n",
    "from dataclasses import dataclass\n",
    "from typing import Any, List\n",
    "import datetime as datetime\n",
    "import pandas as pd\n",
    "import hashlib\n"
   ]
  },
  {
   "cell_type": "code",
   "execution_count": 2,
   "id": "0cd86f32-1e4c-40b2-a832-ca572d39580b",
   "metadata": {},
   "outputs": [],
   "source": [
    "@dataclass\n",
    "class Record:\n",
    "    # Add an attribute named `sender` of type `str`\n",
    "    sender: str\n",
    "    # Add an attribute named `receiver` of type `str` \n",
    "    receiver: str\n",
    "    # Add an attribute named `amount` of type `float`\n",
    "    amount: float"
   ]
  },
  {
   "cell_type": "code",
   "execution_count": null,
   "id": "8f195c87-a533-439e-acee-ca0a9229aff1",
   "metadata": {},
   "outputs": [],
   "source": [
    "new_record = Record(data=)"
   ]
  }
 ],
 "metadata": {
  "kernelspec": {
   "display_name": "Python 3 (ipykernel)",
   "language": "python",
   "name": "python3"
  },
  "language_info": {
   "codemirror_mode": {
    "name": "ipython",
    "version": 3
   },
   "file_extension": ".py",
   "mimetype": "text/x-python",
   "name": "python",
   "nbconvert_exporter": "python",
   "pygments_lexer": "ipython3",
   "version": "3.8.8"
  }
 },
 "nbformat": 4,
 "nbformat_minor": 5
}
